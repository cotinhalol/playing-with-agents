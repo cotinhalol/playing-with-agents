{
 "cells": [
  {
   "cell_type": "markdown",
   "id": "2e0f7453",
   "metadata": {},
   "source": [
    "### Description\n",
    "- The objective of this agent is to provide it with a task, devide the task in steps.\n",
    "- Have several agents doing each task in paralell\n",
    "### Solution\n",
    "- Provide a task to the LLM, ask it to provide the steps to do the task, the answer should be in json\n",
    "- Parse the json dividing the several tasks.\n",
    "- In paralell call the LLM providing each task, asking it to provide the solution\n",
    "- Have a Validator in the end that receives each task description, solution and validate that they will work well together"
   ]
  },
  {
   "cell_type": "markdown",
   "id": "2490df4c",
   "metadata": {},
   "source": [
    "### Setting up the environment "
   ]
  },
  {
   "cell_type": "code",
   "execution_count": null,
   "id": "94b86676",
   "metadata": {},
   "outputs": [],
   "source": [
    "from dotenv import load_dotenv\n",
    "import os\n",
    "\n",
    "load_dotenv(override=True)\n",
    "openai_api_key = os.getenv('GOOGLE_API_KEY')"
   ]
  }
 ],
 "metadata": {
  "kernelspec": {
   "display_name": ".venv",
   "language": "python",
   "name": "python3"
  },
  "language_info": {
   "name": "python",
   "version": "3.12.11"
  }
 },
 "nbformat": 4,
 "nbformat_minor": 5
}
