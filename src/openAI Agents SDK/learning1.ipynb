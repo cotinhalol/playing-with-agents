{
 "cells": [
  {
   "cell_type": "code",
   "execution_count": null,
   "id": "e8010a77",
   "metadata": {},
   "outputs": [],
   "source": [
    "from dotenv import load_dotenv\n",
    "from agents import Agent, Runner, AsyncOpenAI, OpenAIChatCompletionsModel, function_tool\n",
    "import smtplib\n",
    "#import openai\n",
    "#from langfuse.openai import openai\n",
    "from langfuse.openai import openai\n",
    "from email.message import EmailMessage\n",
    "import os\n",
    "from langfuse import Langfuse, observe\n",
    "import asyncio\n",
    "import pprint\n",
    "from pydantic import BaseModel\n",
    "\n",
    "\n",
    "load_dotenv(override=True)\n",
    "\n",
    "lf = Langfuse()\n",
    "\n",
    "SENDER_EMAIL = os.getenv('EMAIL_USER')\n",
    "APP_PASSWORD = os.getenv('EMAIL_PASSWORD')\n",
    "gemini_model = os.getenv('GEMINI_MODEL')\n",
    "openai_api_key = os.getenv('GOOGLE_API_KEY')\n",
    "openai_url = os.getenv('GEMINI_BASE_URL')\n",
    "RECIPIENT_EMAIL = SENDER_EMAIL\n",
    "\n",
    "openai_api_key = os.getenv(\"GEMINI_API_KEY\")\n",
    "gemini_client = AsyncOpenAI(\n",
    "    api_key=openai_api_key,\n",
    "    base_url=openai_url\n",
    ")\n",
    "\n",
    "gemini=OpenAIChatCompletionsModel(\n",
    "        model=gemini_model,\n",
    "        openai_client=gemini_client,\n",
    ")"
   ]
  },
  {
   "cell_type": "markdown",
   "id": "bbd5e65f",
   "metadata": {},
   "source": [
    "### How to create an agent:"
   ]
  },
  {
   "cell_type": "code",
   "execution_count": null,
   "id": "0e47a46e",
   "metadata": {},
   "outputs": [],
   "source": [
    "agent = Agent(\n",
    "    name=\"Jokester\", \n",
    "    instructions=\"You are a joke teller\", \n",
    "    model=gemini\n",
    ")"
   ]
  },
  {
   "cell_type": "code",
   "execution_count": null,
   "id": "041732a4",
   "metadata": {},
   "outputs": [],
   "source": [
    "result = await Runner.run(agent, \"Tell me a really good joke\")"
   ]
  },
  {
   "cell_type": "code",
   "execution_count": null,
   "id": "7849f0a4",
   "metadata": {},
   "outputs": [],
   "source": [
    "class EmailBody(BaseModel):\n",
    "    body:str\n",
    "\n",
    "no_subject=\"You do not create a subject for the email\"\n",
    "\n",
    "instructions1 = f\"You are a sales agent working for ComplAI, \\\n",
    "a company that provides a SaaS tool for ensuring SOC2 compliance and preparing for audits, powered by AI. \\\n",
    "You write professional, serious cold emails. \\\n",
    "    {no_subject}\"\n",
    "\n",
    "instructions2 = f\"You are a humorous, engaging sales agent working for ComplAI, \\\n",
    "a company that provides a SaaS tool for ensuring SOC2 compliance and preparing for audits, powered by AI. \\\n",
    "You write witty, engaging cold emails that are likely to get a response. \\\n",
    "    {no_subject}\"\n",
    "\n",
    "instructions3 = f\"You are a busy sales agent working for ComplAI, \\\n",
    "a company that provides a SaaS tool for ensuring SOC2 compliance and preparing for audits, powered by AI. \\\n",
    "You write concise, to the point cold emails. \\\n",
    "    {no_subject}\""
   ]
  },
  {
   "cell_type": "code",
   "execution_count": null,
   "id": "09804951",
   "metadata": {},
   "outputs": [],
   "source": [
    "sales_agent1 = Agent(\n",
    "        name=\"Professional Sales Agent\",\n",
    "        instructions=instructions1,\n",
    "        model=gemini,\n",
    "        output_type=EmailBody\n",
    ")\n",
    "\n",
    "sales_agent2 = Agent(\n",
    "        name=\"Engaging Sales Agent\",\n",
    "        instructions=instructions2,\n",
    "        model=gemini,\n",
    "        output_type=EmailBody\n",
    ")\n",
    "\n",
    "sales_agent3 = Agent(\n",
    "        name=\"Busy Sales Agent\",\n",
    "        instructions=instructions3,\n",
    "        model=gemini,\n",
    "        output_type=EmailBody\n",
    ")"
   ]
  },
  {
   "cell_type": "markdown",
   "id": "df9d167b",
   "metadata": {},
   "source": [
    "How to stream the results:"
   ]
  },
  {
   "cell_type": "code",
   "execution_count": null,
   "id": "37eef720",
   "metadata": {},
   "outputs": [],
   "source": [
    "result = Runner.run_streamed(sales_agent1, input=\"Write a cold sales email\")\n",
    "async for event in result.stream_events():\n",
    "    if event.type == \"raw_response_event\" and isinstance(event.data, openai.types.responses.ResponseTextDeltaEvent):\n",
    "        print(event.data.delta, end=\"\", flush=True)"
   ]
  },
  {
   "cell_type": "code",
   "execution_count": null,
   "id": "1189ba81",
   "metadata": {},
   "outputs": [],
   "source": [
    "async def parallel_call(prompt):\n",
    "    with lf.start_as_current_span(name=\"call-all-sales-with-same-prompt\") as span:\n",
    "        results = await asyncio.gather(\n",
    "            Runner.run(sales_agent1, input=prompt),\n",
    "            Runner.run(sales_agent2, input=prompt),\n",
    "            Runner.run(sales_agent3, input=prompt)\n",
    "        )\n",
    "    return results\n",
    "\n",
    "results = await parallel_call(\"Write a cold sales email\")"
   ]
  },
  {
   "cell_type": "code",
   "execution_count": null,
   "id": "36fe555d",
   "metadata": {},
   "outputs": [],
   "source": [
    "\n",
    "for result in results:\n",
    "    print(\"Result:\")\n",
    "    print(result.final_output)\n",
    "    print(\"********\")"
   ]
  },
  {
   "cell_type": "code",
   "execution_count": null,
   "id": "39fd58fe",
   "metadata": {},
   "outputs": [],
   "source": [
    "sales_picker = Agent(\n",
    "    name=\"sales_picker\",\n",
    "    instructions=\"You pick the best cold sales email from the given options. \\\n",
    "Imagine you are a customer and pick the one you are most likely to respond to. \\\n",
    "Do not give an explanation; reply with the selected email only.\",\n",
    "    model=gemini,\n",
    "    output_type=EmailBody\n",
    ")"
   ]
  },
  {
   "cell_type": "code",
   "execution_count": null,
   "id": "ee5d3af4",
   "metadata": {},
   "outputs": [],
   "source": [
    "async def get_best_cold_salesman(results):\n",
    "    with lf.start_as_current_span(name=\"sales-picker\") as span:\n",
    "        prompt = \"Options:\"\n",
    "        for index,result in enumerate(results):\n",
    "            prompt += f\"Sales Agent {index}:\\n {result.final_output}\\n\\n\"\n",
    "        return await Runner.run(sales_picker, prompt)\n",
    "\n",
    "best = await get_best_cold_salesman(results)"
   ]
  },
  {
   "cell_type": "code",
   "execution_count": null,
   "id": "16f0a95f",
   "metadata": {},
   "outputs": [],
   "source": [
    "print(best.final_output)"
   ]
  },
  {
   "cell_type": "code",
   "execution_count": null,
   "id": "b21dd2a4",
   "metadata": {},
   "outputs": [],
   "source": [
    "@function_tool\n",
    "def send_email(body:str, subject:str=\"\"):\n",
    "    \"\"\"This tool sends an email, received a body and a subject (if present)\"\"\"\n",
    "    # --- Create the Email Message ---\n",
    "    msg = EmailMessage()\n",
    "    msg['Subject'] = f\"Sales Agent - {subject}\"\n",
    "    msg['From'] = SENDER_EMAIL\n",
    "    msg['To'] = RECIPIENT_EMAIL\n",
    "    msg.set_content(body)\n",
    "\n",
    "    # --- Send the Email ---\n",
    "    try:\n",
    "        # Connect to the SMTP server (for Gmail)\n",
    "        with smtplib.SMTP_SSL('smtp.gmail.com', 465) as smtp:\n",
    "            smtp.login(SENDER_EMAIL, APP_PASSWORD)  # Log in to the server\n",
    "            smtp.send_message(msg)                 # Send the email\n",
    "            print(\"Email sent successfully!\")\n",
    "    except Exception as e:\n",
    "        print(f\"An error occurred: {e.with_traceback}\")\n"
   ]
  },
  {
   "cell_type": "code",
   "execution_count": null,
   "id": "0fa2bc3c",
   "metadata": {},
   "outputs": [],
   "source": [
    "pprint.pprint(send_email)"
   ]
  },
  {
   "cell_type": "code",
   "execution_count": null,
   "id": "a022db81",
   "metadata": {},
   "outputs": [],
   "source": [
    "tool1 = sales_agent1.as_tool(tool_name=\"sales_agent1\", tool_description=\"Write a cold sales email\")\n",
    "pprint.pprint(tool1)"
   ]
  },
  {
   "cell_type": "code",
   "execution_count": null,
   "id": "1979479f",
   "metadata": {},
   "outputs": [],
   "source": [
    "tool1 = sales_agent1.as_tool(tool_name=\"sales_agent1\", tool_description=\"Write a cold sales email\")\n",
    "tool2 = sales_agent2.as_tool(tool_name=\"sales_agent2\", tool_description=\"Write a cold sales email\")\n",
    "tool3 = sales_agent3.as_tool(tool_name=\"sales_agent3\", tool_description=\"Write a cold sales email\")\n",
    "\n",
    "tools = [tool1, tool2, tool3, send_email]\n",
    "\n",
    "tools"
   ]
  },
  {
   "cell_type": "code",
   "execution_count": null,
   "id": "30ccc7e3",
   "metadata": {},
   "outputs": [],
   "source": [
    "instructions = \"\"\"\n",
    "You are a Sales Manager at ComplAI. Your goal is to find the single best cold sales email using the sales_agent tools and send this email as the body.\n",
    " \n",
    "Follow these steps carefully:\n",
    "1. Generate Drafts: Use all three sales_agent tools to generate three different email drafts. Do not proceed until all three drafts are ready.\n",
    " \n",
    "2. Evaluate and Select: Review the drafts and you must choose the single best email using your judgment of which one is most effective.\n",
    " \n",
    "3. Use the send_email tool to send the best email you selected (and only the best email) to the user. The best email is sent as the body for the send_email function\n",
    " \n",
    "Crucial Rules:\n",
    "- You must use the sales agent tools to generate the drafts — do not write them yourself.\n",
    "- You must send ONE email using the send_email tool — never more than one.\n",
    "\"\"\"\n",
    "\n",
    "\n",
    "sales_manager = Agent(name=\"Sales Manager\", instructions=instructions, tools=tools, model=gemini)\n",
    "\n",
    "message = \"Send a cold sales email addressed to 'Dear CEO'\"\n",
    "\n"
   ]
  },
  {
   "cell_type": "code",
   "execution_count": null,
   "id": "12c22dfd",
   "metadata": {},
   "outputs": [],
   "source": [
    "with lf.start_as_current_span(name=\"sales-manager\") as span:\n",
    "    result = await Runner.run(sales_manager, message)"
   ]
  },
  {
   "cell_type": "code",
   "execution_count": null,
   "id": "a038c167",
   "metadata": {},
   "outputs": [],
   "source": [
    "pprint.pprint(result.final_output)"
   ]
  },
  {
   "cell_type": "markdown",
   "id": "25ae3c1e",
   "metadata": {},
   "source": [
    "Now we will create an handoff for the previous Agent.\n",
    "This handoff will be a Agent with tree tools:\n",
    " - Create a subject\n",
    " - Format the email into html\n",
    " - send the email"
   ]
  },
  {
   "cell_type": "code",
   "execution_count": null,
   "id": "1290cec8",
   "metadata": {},
   "outputs": [],
   "source": [
    "@function_tool\n",
    "def send_email_html(html_body:str, subject:str):\n",
    "    \"\"\"This tool sends an email, received a html email body and the subject of the email\"\"\"\n",
    "    # --- Create the Email Message ---\n",
    "    msg = EmailMessage()\n",
    "    msg['Subject'] = subject\n",
    "    msg['From'] = SENDER_EMAIL\n",
    "    msg['To'] = RECIPIENT_EMAIL\n",
    "    msg.add_alternative(html_body, subtype='html')\n",
    "    # --- Send the Email ---\n",
    "    try:\n",
    "        # Connect to the SMTP server (for Gmail)\n",
    "        with smtplib.SMTP_SSL('smtp.gmail.com', 465) as smtp:\n",
    "            smtp.login(SENDER_EMAIL, APP_PASSWORD)  # Log in to the server\n",
    "            smtp.send_message(msg)                 # Send the email\n",
    "            print(\"Email sent successfully!\")\n",
    "    except Exception as e:\n",
    "        print(f\"An error occurred: {e.with_traceback}\")"
   ]
  },
  {
   "cell_type": "code",
   "execution_count": null,
   "id": "30934a17",
   "metadata": {},
   "outputs": [],
   "source": [
    "class EmailSubject(BaseModel):\n",
    "    subject:str\n",
    "\n",
    "subject_prompt = \"You can write a subject for a cold sales email. \\\n",
    "You are given a message and you need to write one subject for an email that is likely to get a response. \\\n",
    "Your response will only have one subject you'll say: The best subject is:<the one subject you created> \"\n",
    "\n",
    "format_email_to_html= \"You can convert a text email body to an HTML email body. \\\n",
    "You are given a text email body which might have some markdown \\\n",
    "and you need to convert it to an HTML email body with simple, clear, compelling layout and design.\"\n",
    "\n",
    "subject_agent = Agent(\n",
    "    name=\"Subject agent\",\n",
    "    instructions=subject_prompt,\n",
    "    model=gemini,\n",
    "    output_type=EmailSubject\n",
    ").as_tool(\n",
    "    tool_name=\"Create_subject\",\n",
    "    tool_description=\"Receives an email and creates a subject for it\"\n",
    ")\n",
    "\n",
    "format_email_to_html = Agent(\n",
    "    name=\"Format email to html\",\n",
    "    instructions=format_email_to_html,\n",
    "    model=gemini,\n",
    "    output_type=EmailBody\n",
    ").as_tool(\n",
    "    tool_name=\"Format_email_to_html\",\n",
    "    tool_description=\"received an email and formats it into html\"\n",
    ")\n",
    "\n",
    "tools1 = [subject_agent, format_email_to_html, send_email_html]"
   ]
  },
  {
   "cell_type": "code",
   "execution_count": null,
   "id": "0ca39088",
   "metadata": {},
   "outputs": [],
   "source": [
    "pprint.pprint(subject_agent)"
   ]
  },
  {
   "cell_type": "code",
   "execution_count": null,
   "id": "07bd3001",
   "metadata": {},
   "outputs": [],
   "source": [
    "email_sender = \"\"\"\n",
    "You are an efficient email-processing agent. Your sole objective is to take an email body, generate a subject, format the body into HTML, and send the email.\n",
    "\n",
    "You will perform the following steps in this exact order:\n",
    "\n",
    "    1. You will be given an email body in a json object.\n",
    "\n",
    "    2. You will execute the following two tool calls in parallel:\n",
    "\n",
    "        1. subject_agent: Use this tool with the original email body to generate an appropriate subject line.\n",
    "\n",
    "        2. format_email_to_html: Use this tool with the original email body to convert it into HTML.\n",
    "\n",
    "    3. Once you have received the subject from subject_agent and the HTML from format_email_to_html, you will call the send_email_html tool once, providing it with the generated subject and HTML body.\n",
    "\"\"\"\n",
    "\n",
    "email_processor_agent = Agent(\n",
    "    name=\"Orchestrate email processing\",\n",
    "    instructions=email_sender,\n",
    "    tools = tools1,\n",
    "    model=gemini,\n",
    "    handoff_description=\"Convert an email to HTML create the subeject and send it\"\n",
    ")"
   ]
  },
  {
   "cell_type": "code",
   "execution_count": null,
   "id": "3a71532f",
   "metadata": {},
   "outputs": [],
   "source": [
    "tools=[tool1,tool2,tool3]\n",
    "handoffs=[email_processor_agent]"
   ]
  },
  {
   "cell_type": "code",
   "execution_count": null,
   "id": "b7e31d86",
   "metadata": {},
   "outputs": [],
   "source": [
    "email_creator_instructions = \"\"\"\n",
    "You are a discerning Sales Manager at ComplAI. Your primary role is to ensure that all outgoing sales communications are of the highest quality and perfectly aligned with our brand. You are meticulous, strategic, and an excellent judge of effective sales copy.\n",
    "\n",
    "Your objective is to select the most effective sales email from a set of drafts and pass it on for processing.\n",
    "\n",
    "You will follow these steps precisely:\n",
    "\n",
    "    1. You will receive a request to generate a sales email.\n",
    "\n",
    "    2. Immediately call the three sales_agent tools in parallel, each with the same request details. Each tool will provide you with one distinct email draft, resulting in three total options.\n",
    "\n",
    "    3. Critically evaluate the three drafts based on the following criteria:\n",
    "\n",
    "        - Clarity: Is the value proposition clear and easy to understand in under 10 seconds?\n",
    "\n",
    "        - Tone: Does the email sound like it's from a helpful, professional expert at ComplAI? Avoid overly aggressive or generic marketing language.\n",
    "\n",
    "        - Call to Action (CTA): Is the next step for the customer obvious, compelling, and easy to execute?\n",
    "\n",
    "    4. Based on your evaluation, choose the single best email that most effectively meets all the criteria.\n",
    "\n",
    "    5. Once you have made your selection, handoff the flow to the 'Orchestrate email processing' agent, providing only the chosen email's content. Do not send the email yourself. Your task is complete after the handoff.\n",
    "\"\"\"\n",
    "\n",
    "email_body_creator=Agent(\n",
    "    name=\"Create and choose the best cold email\",\n",
    "    instructions=email_creator_instructions,\n",
    "    tools=tools,\n",
    "    handoffs=handoffs,\n",
    "    model=gemini\n",
    ")"
   ]
  },
  {
   "cell_type": "code",
   "execution_count": null,
   "id": "c2cb0521",
   "metadata": {},
   "outputs": [],
   "source": [
    "with lf.start_as_current_span(name=\"body_creator\") as span:\n",
    "    result = await Runner.run(email_body_creator, \"Send a cold email, from André to Vizinha\")"
   ]
  }
 ],
 "metadata": {
  "kernelspec": {
   "display_name": ".venv",
   "language": "python",
   "name": "python3"
  },
  "language_info": {
   "codemirror_mode": {
    "name": "ipython",
    "version": 3
   },
   "file_extension": ".py",
   "mimetype": "text/x-python",
   "name": "python",
   "nbconvert_exporter": "python",
   "pygments_lexer": "ipython3",
   "version": "3.12.11"
  }
 },
 "nbformat": 4,
 "nbformat_minor": 5
}
