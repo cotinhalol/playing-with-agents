{
 "cells": [
  {
   "cell_type": "markdown",
   "id": "2e0f7453",
   "metadata": {},
   "source": [
    "### Description\n",
    "- The objective of this agent is to provide it with a task, devide the task in steps.\n",
    "- Have several agents doing each task in paralell\n",
    "### Solution\n",
    "- Provide a task to the LLM, ask it to provide the steps to do the task, the answer should be in json\n",
    "- Parse the json dividing the several tasks.\n",
    "- In paralell call the LLM providing each task, asking it to provide the solution\n",
    "- Have a Validator in the end that receives each task description, solution and validate that they will work well together"
   ]
  },
  {
   "cell_type": "markdown",
   "id": "2490df4c",
   "metadata": {},
   "source": [
    "### Setting up the environment \n",
    "In the future i'll be using the library utils/myopenai.py\n",
    "that does the bellow and has a function that gets openai instances"
   ]
  },
  {
   "cell_type": "code",
   "execution_count": null,
   "id": "94b86676",
   "metadata": {},
   "outputs": [],
   "source": [
    "from dotenv import load_dotenv\n",
    "from openai import OpenAI\n",
    "import json\n",
    "import os\n",
    "\n",
    "load_dotenv(override=True)\n",
    "openai_api_key = os.getenv('GOOGLE_API_KEY')\n",
    "openai_url = os.getenv('GEMINI_BASE_URL')\n",
    "gemini_model = os.getenv('GEMINI_MODEL')\n",
    "\n",
    "def get_openai_client():\n",
    "    return OpenAI(base_url=openai_url, api_key=openai_api_key)\n",
    "\n",
    "def send_message(client, message,role=\"user\", model=gemini_model):\n",
    "    return client.chat.completions.create(\n",
    "        model=model,\n",
    "        messages=[\n",
    "            {\"role\": role, \"content\": message}\n",
    "        ]\n",
    "    )\n",
    "\n",
    "def send_messages(client, messages, model=gemini_model):\n",
    "    return client.chat.completions.create(\n",
    "        model=model,\n",
    "        messages=messages\n",
    "    )"
   ]
  },
  {
   "cell_type": "code",
   "execution_count": null,
   "id": "6dbc8880",
   "metadata": {},
   "outputs": [],
   "source": [
    "question_ai = get_openai_client()\n",
    "\n",
    "response = send_message(question_ai, \n",
    "\"I want to create a really simple Android app, This app will have 1 activity.\\\n",
    "The objective of this activity is to enable user to create a user or login to a existing user. \\\n",
    "Create tasks on how to perform this objective. I will use the tasks description to provide to another AI agent to perform the task\\\n",
    "So each description should also have the context of the current task, and what needs to be done \\\n",
    "please provide a response in json with a step number and task description, don't use markdown or any other output. THe output MUST be a valid json object\")\n",
    "\n",
    "result = response.choices[0].message.content\n",
    "print(result)\n",
    "\n",
    "\n"
   ]
  },
  {
   "cell_type": "code",
   "execution_count": null,
   "id": "dbd0f691",
   "metadata": {},
   "outputs": [],
   "source": [
    "result = response.choices[0].message.content\n",
    "\n",
    "results_list = json.loads(result)\n",
    "\n",
    "tasks = results_list[\"tasks\"]\n",
    "\n",
    "for task in tasks:\n",
    "    print(f\"Task number: {task[\"step\"]} Task Description: {task[\"task_description\"]}\")"
   ]
  },
  {
   "cell_type": "code",
   "execution_count": null,
   "id": "70cf3576",
   "metadata": {},
   "outputs": [],
   "source": [
    "introduction = \"\"\" \n",
    "You're part of a task force to create a simple Android Activity.\n",
    "The objective of this activity is to enable user to create a user or login to a existing user.\n",
    "You're in charge of one of the tasks. Your task is:\n",
    "\"\"\"\n",
    "conclusion = \"\"\" \n",
    "Please provide the detailed steps to finish this task.\n",
    "Also evaluate you work.\n",
    "The response MUST be a valid json file. It must have a prperty of the description of your work, and the evaluation of you work from 0 to 100\n",
    "Example: \n",
    "{{\n",
    "    \"description\": \"First add eggs, then add sugar\",\n",
    "    \"evaluation\":5\n",
    "}}\n",
    "\"\"\""
   ]
  },
  {
   "cell_type": "code",
   "execution_count": null,
   "id": "0f7ecf7b",
   "metadata": {},
   "outputs": [],
   "source": [
    "task_answers = []\n",
    "\n",
    "for task in tasks:\n",
    "    agent = get_openai_client()\n",
    "    task_response = send_message(agent, f\"{introduction} {task[\"task_description\"]} {conclusion}\")\n",
    "    task_answers.append(task_response.choices[0].message.content)"
   ]
  },
  {
   "cell_type": "code",
   "execution_count": null,
   "id": "39f9816e",
   "metadata": {},
   "outputs": [],
   "source": [
    "for task_answer in task_answers:\n",
    "    print(task_answer)"
   ]
  }
 ],
 "metadata": {
  "kernelspec": {
   "display_name": ".venv",
   "language": "python",
   "name": "python3"
  },
  "language_info": {
   "codemirror_mode": {
    "name": "ipython",
    "version": 3
   },
   "file_extension": ".py",
   "mimetype": "text/x-python",
   "name": "python",
   "nbconvert_exporter": "python",
   "pygments_lexer": "ipython3",
   "version": "3.12.11"
  }
 },
 "nbformat": 4,
 "nbformat_minor": 5
}
