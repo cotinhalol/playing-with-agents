{
 "cells": [
  {
   "cell_type": "markdown",
   "id": "2e0f7453",
   "metadata": {},
   "source": [
    "### Description\n",
    "- The objective of this agent is to provide it with a task, devide the task in steps.\n",
    "- Have several agents doing each task in paralell\n",
    "### Solution\n",
    "- Provide a task to the LLM, ask it to provide the steps to do the task, the answer should be in json\n",
    "- Parse the json dividing the several tasks.\n",
    "- In paralell call the LLM providing each task, asking it to provide the solution\n",
    "- Have a Validator in the end that receives each task description, solution and validate that they will work well together"
   ]
  },
  {
   "cell_type": "markdown",
   "id": "2490df4c",
   "metadata": {},
   "source": [
    "### Setting up the environment \n",
    "In the future i'll be using the library utils/myopenai.py\n",
    "that does the bellow and has a function that gets openai instances"
   ]
  },
  {
   "cell_type": "code",
   "execution_count": 18,
   "id": "94b86676",
   "metadata": {},
   "outputs": [],
   "source": [
    "from dotenv import load_dotenv\n",
    "from openai import OpenAI\n",
    "import json\n",
    "import os\n",
    "\n",
    "load_dotenv(override=True)\n",
    "openai_api_key = os.getenv('GOOGLE_API_KEY')\n",
    "openai_url = os.getenv('GEMINI_BASE_URL')\n",
    "gemini_model = os.getenv('GEMINI_MODEL')\n",
    "\n",
    "def get_openai_client():\n",
    "    return OpenAI(base_url=openai_url, api_key=openai_api_key)\n",
    "\n",
    "def send_message(client, message,role=\"user\", model=gemini_model):\n",
    "    return client.chat.completions.create(\n",
    "        model=model,\n",
    "        messages=[\n",
    "            {\"role\": role, \"content\": message}\n",
    "        ]\n",
    "    )\n",
    "\n",
    "def send_messages(client, messages, model=gemini_model):\n",
    "    return client.chat.completions.create(\n",
    "        model=model,\n",
    "        messages=messages\n",
    "    )"
   ]
  },
  {
   "cell_type": "code",
   "execution_count": 16,
   "id": "6dbc8880",
   "metadata": {},
   "outputs": [
    {
     "name": "stdout",
     "output_type": "stream",
     "text": [
      "```json\n",
      "[\n",
      "  {\n",
      "    \"step\": 1,\n",
      "    \"taskDescription\": \"Create a new Android project with an Empty Activity. Name the project 'UserAuthApp' and set the package name to 'com.example.userauthapp'. Choose Kotlin as the language.\"\n",
      "  },\n",
      "  {\n",
      "    \"step\": 2,\n",
      "    \"taskDescription\": \"Design the layout for the main activity (activity_main.xml). Include two Button widgets: one labeled 'Create User' and another labeled 'Login'.  Also, include two EditText widgets for user input: one for 'Username' and another for 'Password'.  Add TextView widgets for labels to guide the user (e.g., 'Username:', 'Password:').  Arrange these elements using appropriate layout managers (e.g., LinearLayout, ConstraintLayout) for a clean and user-friendly interface.\"\n",
      "  },\n",
      "  {\n",
      "    \"step\": 3,\n",
      "    \"taskDescription\": \"In MainActivity.kt, find the 'Create User' button and the 'Login' button by their IDs. Set an OnClickListener for each button.  Initially, these listeners will be placeholders and won't perform any action.\"\n",
      "  },\n",
      "  {\n",
      "    \"step\": 4,\n",
      "    \"taskDescription\": \"In MainActivity.kt, get references to the 'Username' and 'Password' EditText widgets by their IDs. Store these references in variables.\"\n",
      "  },\n",
      "  {\n",
      "    \"step\": 5,\n",
      "    \"taskDescription\": \"For the 'Create User' button's OnClickListener, implement the logic to: 1. Retrieve the text from the username and password EditText fields. 2. For this simple app, simulate user creation by storing the username and password (e.g., in SharedPreferences or just as variables within the Activity for now). In a real app, this would involve backend communication.  Display a Toast message indicating successful user creation.\"\n",
      "  },\n",
      "  {\n",
      "    \"step\": 6,\n",
      "    \"taskDescription\": \"For the 'Login' button's OnClickListener, implement the logic to: 1. Retrieve the text from the username and password EditText fields. 2. Simulate user login by checking if the entered username and password match the previously 'created' user's credentials. In a real app, this would involve backend communication. Display a Toast message indicating successful login or a 'User not found/Invalid credentials' message.\"\n",
      "  },\n",
      "  {\n",
      "    \"step\": 7,\n",
      "    \"taskDescription\": \"Add necessary UI elements to `activity_main.xml` for better user experience, such as clearing input fields after successful creation/login, or providing visual feedback. For example, you might add a TextView to display login status.\"\n",
      "  },\n",
      "  {\n",
      "    \"step\": 8,\n",
      "    \"taskDescription\": \"Refine the `activity_main.xml` layout for better visual appeal. Ensure elements are properly aligned and spaced. Consider adding padding and margins.  Ensure the EditText fields have appropriate input types (e.g., `text` for username, `textPassword` for password).\"\n",
      "  },\n",
      "  {\n",
      "    \"step\": 9,\n",
      "    \"taskDescription\": \"In MainActivity.kt, implement basic input validation. Before attempting to create a user or login, check if the username and password fields are empty. If so, display a Toast message prompting the user to fill them in.\"\n",
      "  },\n",
      "  {\n",
      "    \"step\": 10,\n",
      "    \"taskDescription\": \"Run the Android application on an emulator or a physical device to test the user creation and login functionality. Verify that both buttons work as expected and that the Toast messages are displayed correctly.\"\n",
      "  }\n",
      "]\n",
      "```\n"
     ]
    }
   ],
   "source": [
    "question_ai = get_openai_client()\n",
    "\n",
    "response = send_message(question_ai, \n",
    "\"I want to create a really simple Android app, This app will have 1 activity.\\\n",
    "The objective of this activity is to enable user to create a user or login to a existing user. \\\n",
    "Create tasks on how to perform this objective. I will use the tasks description to provide to another AI agent to perform the task\\\n",
    "So each description should also have the context of the current task, and what needs to be done \\\n",
    "please provide a response in json with a step number and task description, don't use markdown or any other output but json\")\n",
    "\n",
    "result = response.choices[0].message.content\n",
    "print(result)\n",
    "\n",
    "\n"
   ]
  },
  {
   "cell_type": "code",
   "execution_count": 19,
   "id": "dbd0f691",
   "metadata": {},
   "outputs": [
    {
     "ename": "JSONDecodeError",
     "evalue": "Expecting value: line 1 column 1 (char 0)",
     "output_type": "error",
     "traceback": [
      "\u001b[31m---------------------------------------------------------------------------\u001b[39m",
      "\u001b[31mJSONDecodeError\u001b[39m                           Traceback (most recent call last)",
      "\u001b[36mCell\u001b[39m\u001b[36m \u001b[39m\u001b[32mIn[19]\u001b[39m\u001b[32m, line 1\u001b[39m\n\u001b[32m----> \u001b[39m\u001b[32m1\u001b[39m results_list = \u001b[43mjson\u001b[49m\u001b[43m.\u001b[49m\u001b[43mloads\u001b[49m\u001b[43m(\u001b[49m\u001b[43mresult\u001b[49m\u001b[43m)\u001b[49m\n\u001b[32m      3\u001b[39m \u001b[38;5;28;01mfor\u001b[39;00m result \u001b[38;5;129;01min\u001b[39;00m results_list:\n\u001b[32m      4\u001b[39m     \u001b[38;5;28mprint\u001b[39m(result)\n",
      "\u001b[36mFile \u001b[39m\u001b[32m~\\AppData\\Roaming\\uv\\python\\cpython-3.12.11-windows-x86_64-none\\Lib\\json\\__init__.py:346\u001b[39m, in \u001b[36mloads\u001b[39m\u001b[34m(s, cls, object_hook, parse_float, parse_int, parse_constant, object_pairs_hook, **kw)\u001b[39m\n\u001b[32m    341\u001b[39m     s = s.decode(detect_encoding(s), \u001b[33m'\u001b[39m\u001b[33msurrogatepass\u001b[39m\u001b[33m'\u001b[39m)\n\u001b[32m    343\u001b[39m \u001b[38;5;28;01mif\u001b[39;00m (\u001b[38;5;28mcls\u001b[39m \u001b[38;5;129;01mis\u001b[39;00m \u001b[38;5;28;01mNone\u001b[39;00m \u001b[38;5;129;01mand\u001b[39;00m object_hook \u001b[38;5;129;01mis\u001b[39;00m \u001b[38;5;28;01mNone\u001b[39;00m \u001b[38;5;129;01mand\u001b[39;00m\n\u001b[32m    344\u001b[39m         parse_int \u001b[38;5;129;01mis\u001b[39;00m \u001b[38;5;28;01mNone\u001b[39;00m \u001b[38;5;129;01mand\u001b[39;00m parse_float \u001b[38;5;129;01mis\u001b[39;00m \u001b[38;5;28;01mNone\u001b[39;00m \u001b[38;5;129;01mand\u001b[39;00m\n\u001b[32m    345\u001b[39m         parse_constant \u001b[38;5;129;01mis\u001b[39;00m \u001b[38;5;28;01mNone\u001b[39;00m \u001b[38;5;129;01mand\u001b[39;00m object_pairs_hook \u001b[38;5;129;01mis\u001b[39;00m \u001b[38;5;28;01mNone\u001b[39;00m \u001b[38;5;129;01mand\u001b[39;00m \u001b[38;5;129;01mnot\u001b[39;00m kw):\n\u001b[32m--> \u001b[39m\u001b[32m346\u001b[39m     \u001b[38;5;28;01mreturn\u001b[39;00m \u001b[43m_default_decoder\u001b[49m\u001b[43m.\u001b[49m\u001b[43mdecode\u001b[49m\u001b[43m(\u001b[49m\u001b[43ms\u001b[49m\u001b[43m)\u001b[49m\n\u001b[32m    347\u001b[39m \u001b[38;5;28;01mif\u001b[39;00m \u001b[38;5;28mcls\u001b[39m \u001b[38;5;129;01mis\u001b[39;00m \u001b[38;5;28;01mNone\u001b[39;00m:\n\u001b[32m    348\u001b[39m     \u001b[38;5;28mcls\u001b[39m = JSONDecoder\n",
      "\u001b[36mFile \u001b[39m\u001b[32m~\\AppData\\Roaming\\uv\\python\\cpython-3.12.11-windows-x86_64-none\\Lib\\json\\decoder.py:338\u001b[39m, in \u001b[36mJSONDecoder.decode\u001b[39m\u001b[34m(self, s, _w)\u001b[39m\n\u001b[32m    333\u001b[39m \u001b[38;5;28;01mdef\u001b[39;00m\u001b[38;5;250m \u001b[39m\u001b[34mdecode\u001b[39m(\u001b[38;5;28mself\u001b[39m, s, _w=WHITESPACE.match):\n\u001b[32m    334\u001b[39m \u001b[38;5;250m    \u001b[39m\u001b[33;03m\"\"\"Return the Python representation of ``s`` (a ``str`` instance\u001b[39;00m\n\u001b[32m    335\u001b[39m \u001b[33;03m    containing a JSON document).\u001b[39;00m\n\u001b[32m    336\u001b[39m \n\u001b[32m    337\u001b[39m \u001b[33;03m    \"\"\"\u001b[39;00m\n\u001b[32m--> \u001b[39m\u001b[32m338\u001b[39m     obj, end = \u001b[38;5;28;43mself\u001b[39;49m\u001b[43m.\u001b[49m\u001b[43mraw_decode\u001b[49m\u001b[43m(\u001b[49m\u001b[43ms\u001b[49m\u001b[43m,\u001b[49m\u001b[43m \u001b[49m\u001b[43midx\u001b[49m\u001b[43m=\u001b[49m\u001b[43m_w\u001b[49m\u001b[43m(\u001b[49m\u001b[43ms\u001b[49m\u001b[43m,\u001b[49m\u001b[43m \u001b[49m\u001b[32;43m0\u001b[39;49m\u001b[43m)\u001b[49m\u001b[43m.\u001b[49m\u001b[43mend\u001b[49m\u001b[43m(\u001b[49m\u001b[43m)\u001b[49m\u001b[43m)\u001b[49m\n\u001b[32m    339\u001b[39m     end = _w(s, end).end()\n\u001b[32m    340\u001b[39m     \u001b[38;5;28;01mif\u001b[39;00m end != \u001b[38;5;28mlen\u001b[39m(s):\n",
      "\u001b[36mFile \u001b[39m\u001b[32m~\\AppData\\Roaming\\uv\\python\\cpython-3.12.11-windows-x86_64-none\\Lib\\json\\decoder.py:356\u001b[39m, in \u001b[36mJSONDecoder.raw_decode\u001b[39m\u001b[34m(self, s, idx)\u001b[39m\n\u001b[32m    354\u001b[39m     obj, end = \u001b[38;5;28mself\u001b[39m.scan_once(s, idx)\n\u001b[32m    355\u001b[39m \u001b[38;5;28;01mexcept\u001b[39;00m \u001b[38;5;167;01mStopIteration\u001b[39;00m \u001b[38;5;28;01mas\u001b[39;00m err:\n\u001b[32m--> \u001b[39m\u001b[32m356\u001b[39m     \u001b[38;5;28;01mraise\u001b[39;00m JSONDecodeError(\u001b[33m\"\u001b[39m\u001b[33mExpecting value\u001b[39m\u001b[33m\"\u001b[39m, s, err.value) \u001b[38;5;28;01mfrom\u001b[39;00m\u001b[38;5;250m \u001b[39m\u001b[38;5;28;01mNone\u001b[39;00m\n\u001b[32m    357\u001b[39m \u001b[38;5;28;01mreturn\u001b[39;00m obj, end\n",
      "\u001b[31mJSONDecodeError\u001b[39m: Expecting value: line 1 column 1 (char 0)"
     ]
    }
   ],
   "source": [
    "results_list = json.loads(result)\n",
    "\n",
    "for result in results_list:\n",
    "    print(result)"
   ]
  }
 ],
 "metadata": {
  "kernelspec": {
   "display_name": ".venv",
   "language": "python",
   "name": "python3"
  },
  "language_info": {
   "codemirror_mode": {
    "name": "ipython",
    "version": 3
   },
   "file_extension": ".py",
   "mimetype": "text/x-python",
   "name": "python",
   "nbconvert_exporter": "python",
   "pygments_lexer": "ipython3",
   "version": "3.12.11"
  }
 },
 "nbformat": 4,
 "nbformat_minor": 5
}
