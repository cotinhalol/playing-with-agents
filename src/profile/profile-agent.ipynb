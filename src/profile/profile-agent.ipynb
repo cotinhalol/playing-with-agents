{
 "cells": [
  {
   "cell_type": "code",
   "execution_count": null,
   "id": "f8ef5037",
   "metadata": {},
   "outputs": [],
   "source": [
    "from dotenv import load_dotenv\n",
    "from openai import OpenAI\n",
    "import json\n",
    "import gradio as gr\n",
    "import os\n",
    "\n",
    "load_dotenv(override=True)\n",
    "openai_api_key = os.getenv('GOOGLE_API_KEY')\n",
    "openai_url = os.getenv('GEMINI_BASE_URL')\n",
    "gemini_model = os.getenv('GEMINI_MODEL')\n",
    "\n",
    "def get_openai_client():\n",
    "    return OpenAI(base_url=openai_url, api_key=openai_api_key)\n",
    "\n",
    "def send_message(client, message,role=\"user\", model=gemini_model):\n",
    "    return client.chat.completions.create(\n",
    "        model=model,\n",
    "        messages=[\n",
    "            {\"role\": role, \"content\": message}\n",
    "        ]\n",
    "    )\n",
    "\n",
    "def send_messages(client, messages, model=gemini_model):\n",
    "    return client.chat.completions.create(\n",
    "        model=model,\n",
    "        messages=messages\n",
    "    )"
   ]
  },
  {
   "cell_type": "code",
   "execution_count": null,
   "id": "d625ee66",
   "metadata": {},
   "outputs": [],
   "source": [
    "with open(\"me/my_description.txt\", \"r\", encoding=\"utf-8\") as f:\n",
    "    summary = f.read()"
   ]
  },
  {
   "cell_type": "code",
   "execution_count": null,
   "id": "bc03055c",
   "metadata": {},
   "outputs": [],
   "source": [
    "name = \"André Vizinha\""
   ]
  },
  {
   "cell_type": "code",
   "execution_count": null,
   "id": "87d0a1ee",
   "metadata": {},
   "outputs": [],
   "source": [
    "system_prompt = f\"You are acting as {name}. You are answering questions on {name}'s website, \\\n",
    "particularly questions related to {name}'s career, background, skills and experience. \\\n",
    "Your responsibility is to represent {name} for interactions on the website as faithfully as possible. \\\n",
    "You are given a summary of {name}'s background and LinkedIn profile which you can use to answer questions. \\\n",
    "Be professional and engaging, as if talking to a potential client or future employer who came across the website. \\\n",
    "If you don't know the answer, say so.\"\n",
    "\n",
    "system_prompt += f\"\\n\\n## Summary:\\n{summary}\\n\\n\"\n",
    "system_prompt += f\"With this context, please chat with the user, always staying in character as {name}.\""
   ]
  },
  {
   "cell_type": "code",
   "execution_count": null,
   "id": "7ce59cf6",
   "metadata": {},
   "outputs": [],
   "source": [
    "system_prompt"
   ]
  },
  {
   "cell_type": "code",
   "execution_count": null,
   "id": "ba066ec8",
   "metadata": {},
   "outputs": [],
   "source": [
    "client = get_openai_client()\n",
    "\n",
    "def chat(message, history):\n",
    "    messages = [{\"role\": \"system\", \"content\": system_prompt}] + history + [{\"role\": \"user\", \"content\": message}]\n",
    "    response = send_messages(client, messages)\n",
    "    return response.choices[0].message.content"
   ]
  },
  {
   "cell_type": "code",
   "execution_count": null,
   "id": "43edb2c5",
   "metadata": {},
   "outputs": [],
   "source": [
    "gr.ChatInterface(chat, type=\"messages\").launch()"
   ]
  },
  {
   "cell_type": "code",
   "execution_count": null,
   "id": "6f28b6f7",
   "metadata": {},
   "outputs": [],
   "source": [
    "from pydantic import BaseModel\n",
    "\n",
    "class Evaluation(BaseModel):\n",
    "    is_acceptable: bool\n",
    "    feedback: str"
   ]
  },
  {
   "cell_type": "code",
   "execution_count": null,
   "id": "cda13895",
   "metadata": {},
   "outputs": [],
   "source": [
    "evaluator_system_prompt = f\"You are an evaluator that decides whether a response to a question is acceptable. \\\n",
    "You are provided with a conversation between a User and an Agent. Your task is to decide whether the Agent's latest response is acceptable quality. \\\n",
    "The Agent is playing the role of {name} and is representing {name} on their website. \\\n",
    "The Agent has been instructed to be professional and engaging, as if talking to a potential client or future employer who came across the website. \\\n",
    "The Agent has been provided with context on {name} in the form of their summary and LinkedIn details. Here's the information:\"\n",
    "\n",
    "evaluator_system_prompt += f\"\\n\\n## Summary:\\n{summary}\\n\\n\"\n",
    "evaluator_system_prompt += f\"With this context, please evaluate the latest response, replying with whether the response is acceptable and your feedback.\""
   ]
  },
  {
   "cell_type": "code",
   "execution_count": null,
   "id": "547e26ae",
   "metadata": {},
   "outputs": [],
   "source": [
    "evaluator_system_prompt"
   ]
  },
  {
   "cell_type": "code",
   "execution_count": null,
   "id": "f16c38b6",
   "metadata": {},
   "outputs": [],
   "source": [
    "def evaluator_user_prompt(reply, message, history):\n",
    "    user_prompt = f\"Here's the conversation between the User and the Agent: \\n\\n{history}\\n\\n\"\n",
    "    user_prompt += f\"Here's the latest message from the User: \\n\\n{message}\\n\\n\"\n",
    "    user_prompt += f\"Here's the latest response from the Agent: \\n\\n{reply}\\n\\n\"\n",
    "    user_prompt += \"Please evaluate the response, replying with whether it is acceptable and your feedback.\"\n",
    "    return user_prompt"
   ]
  },
  {
   "cell_type": "code",
   "execution_count": null,
   "id": "7d9e2fe9",
   "metadata": {},
   "outputs": [],
   "source": [
    "evaluator = get_openai_client()\n",
    "\n",
    "def evaluate(reply, message, history) -> Evaluation:\n",
    "    messages=[{\"role\": \"system\", \"content\": evaluator_system_prompt}] + [{\"role\": \"user\", \"content\": evaluator_user_prompt(reply, message, history)}]\n",
    "    response = evaluator.beta.chat.completions.parse(model=gemini_model, messages=messages, response_format=Evaluation)\n",
    "    return response.choices[0].message.parsed"
   ]
  },
  {
   "cell_type": "code",
   "execution_count": null,
   "id": "5159200e",
   "metadata": {},
   "outputs": [],
   "source": [
    "def rerun(reply, message, history, feedback):\n",
    "    updated_system_prompt = system_prompt + \"\\n\\n## Previous answer rejected\\nYou just tried to reply, but the quality control rejected your reply\\n\"\n",
    "    updated_system_prompt += f\"## Your attempted answer:\\n{reply}\\n\\n\"\n",
    "    updated_system_prompt += f\"## Reason for rejection:\\n{feedback}\\n\\n\"\n",
    "    messages = [{\"role\": \"system\", \"content\": updated_system_prompt}] + history + [{\"role\": \"user\", \"content\": message}]\n",
    "    response = send_messages(get_openai_client(), messages)\n",
    "    return response.choices[0].message.content"
   ]
  },
  {
   "cell_type": "code",
   "execution_count": null,
   "id": "e1c803cf",
   "metadata": {},
   "outputs": [],
   "source": [
    "def chat1(message, history):\n",
    "    if \"sanji\" in message:\n",
    "        system = \"You're Sanji the cook from Onepiece, you're the best cook there is, and you'll help anyone with your recipe knowledge\"\n",
    "        messages = [{\"role\": \"system\", \"content\": system}] + [{\"role\": \"user\", \"content\": message}]\n",
    "    else:\n",
    "        system = system_prompt\n",
    "        messages = [{\"role\": \"system\", \"content\": system}] + history + [{\"role\": \"user\", \"content\": message}]\n",
    "    response = send_messages(get_openai_client(), messages)\n",
    "    reply = response.choices[0].message.content\n",
    "    evaluation = evaluate(reply, message, history)\n",
    "    print(f\"The evaluation passed? {evaluation.is_acceptable}\")\n",
    "    print(f\"The evaluation feedback: {evaluation.feedback}\")\n",
    "    print(f\"--------------------------------------------------\")\n",
    "    if ( not evaluation.is_acceptable):\n",
    "        reply = rerun(reply, message, history, evaluation.feedback)\n",
    "    \n",
    "    return reply"
   ]
  },
  {
   "cell_type": "code",
   "execution_count": null,
   "id": "3f367ec1",
   "metadata": {},
   "outputs": [],
   "source": [
    "gr.ChatInterface(chat1, type=\"messages\").launch()"
   ]
  }
 ],
 "metadata": {
  "kernelspec": {
   "display_name": ".venv",
   "language": "python",
   "name": "python3"
  },
  "language_info": {
   "codemirror_mode": {
    "name": "ipython",
    "version": 3
   },
   "file_extension": ".py",
   "mimetype": "text/x-python",
   "name": "python",
   "nbconvert_exporter": "python",
   "pygments_lexer": "ipython3",
   "version": "3.12.11"
  }
 },
 "nbformat": 4,
 "nbformat_minor": 5
}
